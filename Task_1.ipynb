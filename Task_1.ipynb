{
 "cells": [
  {
   "cell_type": "markdown",
   "id": "fb466568-1ecd-4391-bbcb-9a8d4e443f04",
   "metadata": {},
   "source": [
    "# TASK 1: Fuzzy Search Algorthms"
   ]
  },
  {
   "cell_type": "code",
   "execution_count": 1,
   "id": "97e711ba-4c3f-4a38-9c79-76973a536361",
   "metadata": {},
   "outputs": [],
   "source": [
    "import numpy as np\n",
    "import pandas as pd\n",
    "import matplotlib.pyplot as plt"
   ]
  },
  {
   "cell_type": "markdown",
   "id": "1b4446df-3156-42a2-bc9d-96cd45e343ef",
   "metadata": {},
   "source": [
    "Having imported some of the important libraries\n",
    "\n",
    "let us import the data given in the task as an excel file and store it in a list."
   ]
  },
  {
   "cell_type": "code",
   "execution_count": 2,
   "id": "94fb47c2-fb33-420f-b2f9-7fb01307f2d0",
   "metadata": {
    "scrolled": true
   },
   "outputs": [],
   "source": [
    "df = pd.read_excel('TaskData.xlsx', header = None) # Store the excel file in the same folder as the ipynb file\n",
    "data = df.values.tolist()"
   ]
  },
  {
   "cell_type": "markdown",
   "id": "05a054f8-0e94-4f4e-8dd4-cd637f915758",
   "metadata": {},
   "source": [
    "Now, let us make three dictionaries (for three different fuzzy search algorithms) consisting of 10 entries each being assigned to a specific profession on the list and assigning a value of zero to it."
   ]
  },
  {
   "cell_type": "code",
   "execution_count": 3,
   "id": "f03bcead-bff7-41ac-8ecd-eb4363118f19",
   "metadata": {
    "scrolled": true
   },
   "outputs": [
    {
     "name": "stdout",
     "output_type": "stream",
     "text": [
      "{'Doctor': 0, 'Lawyer': 0, 'Teacher': 0, 'Engineer': 0, 'Accountant': 0, 'Nurse': 0, 'Police': 0, 'Architect': 0, 'Dentist': 0, 'Pharmacist': 0}\n",
      "{'Doctor': 0, 'Lawyer': 0, 'Teacher': 0, 'Engineer': 0, 'Accountant': 0, 'Nurse': 0, 'Police': 0, 'Architect': 0, 'Dentist': 0, 'Pharmacist': 0}\n",
      "{'Doctor': 0, 'Lawyer': 0, 'Teacher': 0, 'Engineer': 0, 'Accountant': 0, 'Nurse': 0, 'Police': 0, 'Architect': 0, 'Dentist': 0, 'Pharmacist': 0}\n"
     ]
    }
   ],
   "source": [
    "perm_dic_1 = {\n",
    "    'Doctor' : 0,\n",
    "    'Lawyer' : 0,\n",
    "    'Teacher' : 0 ,\n",
    "    'Engineer' : 0,\n",
    "    'Accountant' : 0,\n",
    "    'Nurse' : 0,\n",
    "    'Police' : 0,\n",
    "    'Architect' : 0,\n",
    "    'Dentist' : 0,\n",
    "    'Pharmacist' : 0}\n",
    "perm_dic_2 = {\n",
    "    'Doctor' : 0,\n",
    "    'Lawyer' : 0,\n",
    "    'Teacher' : 0 ,\n",
    "    'Engineer' : 0,\n",
    "    'Accountant' : 0,\n",
    "    'Nurse' : 0,\n",
    "    'Police' : 0,\n",
    "    'Architect' : 0,\n",
    "    'Dentist' : 0,\n",
    "    'Pharmacist' : 0}\n",
    "perm_dic_3 = {\n",
    "    'Doctor' : 0,\n",
    "    'Lawyer' : 0,\n",
    "    'Teacher' : 0 ,\n",
    "    'Engineer' : 0,\n",
    "    'Accountant' : 0,\n",
    "    'Nurse' : 0,\n",
    "    'Police' : 0,\n",
    "    'Architect' : 0,\n",
    "    'Dentist' : 0,\n",
    "    'Pharmacist' : 0}\n",
    "print(perm_dic_1)\n",
    "print(perm_dic_2)\n",
    "print(perm_dic_3)"
   ]
  },
  {
   "cell_type": "code",
   "execution_count": 4,
   "id": "31535c39-7b6d-4860-b2c5-561f4b3c0e12",
   "metadata": {},
   "outputs": [
    {
     "name": "stdout",
     "output_type": "stream",
     "text": [
      "['Doctor', 'Lawyer', 'Teacher', 'Engineer', 'Accountant', 'Nurse', 'Police', 'Architect', 'Dentist', 'Pharmacist']\n"
     ]
    }
   ],
   "source": [
    "ref = ['Doctor','Lawyer','Teacher','Engineer','Accountant','Nurse','Police','Architect','Dentist','Pharmacist']\n",
    "print(ref)"
   ]
  },
  {
   "cell_type": "markdown",
   "id": "677422a5-0648-43fa-a00f-f1f1750309f2",
   "metadata": {},
   "source": [
    "The **goal** is to run through each entry in the data list and put it through 3 individual fuzzy search algorithms.\n",
    "We will then compare the results obtained from each algorithms in the form of a bar chart and its time efficiency and rank them from best to worse.\n",
    "The **three algorithms** I will be using are:\n",
    "1. Levenshtein Algorithm\n",
    "2. Bitap Algorithm\n",
    "3. N-gram (along with Jacoord Similarity)\n",
    "\n",
    "The estimated results from the three algorithms will be stored in the above three dictionaries.\n",
    "\n",
    "Let us first start with the Levenshtein algorithm"
   ]
  },
  {
   "cell_type": "code",
   "execution_count": 5,
   "id": "fc3e19a8-d1f6-4060-b6d7-7bcfa5eca1f0",
   "metadata": {},
   "outputs": [],
   "source": [
    "def levenshtein(s, t):\n",
    "    rows = len(s)+1\n",
    "    cols = len(t)+1\n",
    "    dist = [[0 for x in range(cols)] for x in range(rows)]\n",
    "\n",
    "    #unnecessary source characters can be removed through deletion\n",
    "    for i in range(1, rows):\n",
    "        dist[i][0] = i\n",
    "\n",
    "    #necessary target characters can be added through insertion\n",
    "    for i in range(1, cols):\n",
    "        dist[0][i] = i\n",
    "        \n",
    "    for col in range(1, cols):\n",
    "        for row in range(1, rows):\n",
    "            if s[row-1] == t[col-1]: #replacement criteria\n",
    "                cost = 0\n",
    "            else:\n",
    "                cost = 1                                    # as per the 4-cell diagram below\n",
    "            dist[row][col] = min(dist[row-1][col] + 1,      # deletion \n",
    "                                 dist[row][col-1] + 1,      # insertion\n",
    "                                 dist[row-1][col-1] + cost) # replacement\n",
    "\n",
    " \n",
    "    return dist[row][col] #the last cell (bottom-right)"
   ]
  },
  {
   "cell_type": "markdown",
   "id": "535a69bf-12f3-4c03-a78a-06eb5c4b671d",
   "metadata": {},
   "source": [
    "The levenshtein algorithm is written using principles of recursion, in which the text can follow one of three 'edits' to change the first word to the second word. The three possible edits are:\n",
    "1. Replacing a letter for another\n",
    "2. Deleting a letter\n",
    "3. Adding a new letter\n",
    "Using these three edits, the number of steps it takes to reach the second word is known as the edit distance.\n",
    "The lower the edit distance, the closer the given word (a) is to the target word (b).\n",
    "\n",
    "The Levenshtein Algorithm works on the principle of recursively checking the outcome of these 3 possible edits on the first character, and thereby shortening the word, and finally returniong the minimum number of steps needed to achieve the goal.\n",
    "\n",
    "The above code is an iterative and extremely fast method to caculate the edit distance between two words.\n",
    "It involves setting the two given words up in a 2-d matrix and plotting the edit distances for words, one character at a time.\n",
    "\n",
    "![matrix method](https://i.imgur.com/AKiTNLd.png)\n",
    "\n",
    "So, we set up a matrix like the one above and perform levenstein operations, from left to right, top to bottom. The calculations in this method are moch faster than the basic recursive function as, we can find the value of a cell using the cell values before it.\n",
    "\n",
    "![visualize](https://i.imgur.com/I1PQS4Q.png)\n",
    "\n",
    "For example, if your newest character added on traversing left to right matches the letter to the left, you will not have to perform a replace operation and can directly take up the value of the cell directly behind it (the replace cell in the image above). OR else a value of 1 may be added. Similar logic can be applied to addition and deletion function."
   ]
  },
  {
   "cell_type": "code",
   "execution_count": 6,
   "id": "01fc2f37-6946-416f-ae09-1c73da7e3ac3",
   "metadata": {},
   "outputs": [],
   "source": [
    "def use_levenshtein (a:str, ref):\n",
    "    lowest_edit_distance  = 50 #arbitrarily picked large number\n",
    "    guessed_word = '' #placeholder for word\n",
    "    for target in ref:\n",
    "        x = levenshtein(a.lower(), target.lower())\n",
    "        if x < lowest_edit_distance:\n",
    "            lowest_edit_distance = x\n",
    "            guessed_word = target\n",
    "    # having obtained the word with the lowest Levenshtein distance will give us the most probable occupation\n",
    "    return guessed_word"
   ]
  },
  {
   "cell_type": "markdown",
   "id": "25de3092-5d7c-479b-b4aa-63a1b4ad1fbb",
   "metadata": {},
   "source": [
    "Having completed a function to completely implement the levenshtein function, we will now move on to the Bitap Algorithm and make a function for it."
   ]
  },
  {
   "cell_type": "code",
   "execution_count": 7,
   "id": "1037e443-71f0-4c22-878d-07f2011be1c6",
   "metadata": {},
   "outputs": [],
   "source": [
    "def char_list(a:str):\n",
    "    list = []\n",
    "    for charac in a:\n",
    "        if charac not in list:\n",
    "            list.append(charac)\n",
    "    return list"
   ]
  },
  {
   "cell_type": "code",
   "execution_count": 8,
   "id": "d7f03cff-aaf1-4add-95e6-953ff4d25fdf",
   "metadata": {},
   "outputs": [],
   "source": [
    "def character_array_dic(a:str):\n",
    "    T= {}\n",
    "    charac_list = char_list(a)\n",
    "    for charac in charac_list:\n",
    "        T[charac] = [0] * len(a)\n",
    "        cnt = 0\n",
    "        for i in range(len(a)):\n",
    "            if charac != a[i]:\n",
    "                T[charac][i] = 1\n",
    "            else:\n",
    "                T[charac][i] = 0\n",
    "    return T"
   ]
  },
  {
   "cell_type": "code",
   "execution_count": 9,
   "id": "663032c6-197f-4a06-9702-6cdaf5095af0",
   "metadata": {},
   "outputs": [],
   "source": [
    "def left_shift(l):\n",
    "    l = l[1:] + l[:1]\n",
    "    l[-1]  = 0\n",
    "    return l"
   ]
  },
  {
   "cell_type": "code",
   "execution_count": 10,
   "id": "a562bee1-e1e7-4032-a395-1d3b26f4f0e7",
   "metadata": {},
   "outputs": [],
   "source": [
    "def truth_table(a:list, b:list):\n",
    "    l =[]\n",
    "    for i in range(len(a)):\n",
    "        l.append(int(a[i] | b[i]))\n",
    "    return l"
   ]
  },
  {
   "cell_type": "markdown",
   "id": "2dbc1669-59a9-4fc5-9df3-3d1bc62d8e8c",
   "metadata": {},
   "source": [
    "The above four funtions are necesaary to convert the words passed into the bitap funtions into truth table list of characters which are present. these lists will now be passed into the funtion to process the presence of a pattern.\n",
    "\n",
    "The bitap algorithm works by continuously taking the **OR** of the given pattern (or word in this case) and compares it wiht the target pattern (word) to find any commonalities between the two.\n",
    "\n",
    "A very simpplified explanation of its working is as follows:\n",
    "\n",
    "![truth_table](https://miro.medium.com/v2/resize:fit:300/format:webp/1*v2ZsZcYWmCGyKTHtl9StWA.png \"truth table\")\n",
    "\n",
    "Each character in the the final pattern will be assigned a truth table list of its own and all this is made by taking the initial pattern and reversing its character\n",
    "\n",
    ">(HELLO --> OLLEH)\n",
    "\n",
    "and in the truth table of specific character, the positions of that character will be taken as 0, while rest is 1.\n",
    "\n",
    "Ex. Let **S0=‘ababc’** is the pattern to be matched with string **S1=‘abdabababc’**\n",
    "This leads to 4 truth tables for a, b, c, d as shown in the above picture.\n",
    "\n",
    "Now, an initial case of 11111 (X) will be taken (as per the 5 characters in the example above), and it will be left-shifted\n",
    "> 11111 --> 11110\n",
    "\n",
    "Then, the OR of this and the corresponding table of the first character in the final pattern will be taken (in this case it is a).\n",
    "\n",
    "> 11110 | 11010 --> 11110\n",
    "\n",
    "A pattern of left shiting and OR continues till the last character, and the accuracy or presence of the pattern is detected as a 0 character moves closer to the [0] position in the changing truth table (X)."
   ]
  },
  {
   "cell_type": "code",
   "execution_count": 11,
   "id": "546ba21c-419d-4338-9799-c79e58f0dd44",
   "metadata": {},
   "outputs": [],
   "source": [
    "def bitap (a:str, b:str):\n",
    "    a = a[::-1] #reverses a string\n",
    "    charac_list= char_list(a.lower())\n",
    "    T= character_array_dic(a.lower())\n",
    "    S = [1] * len(a)\n",
    "    temp = S\n",
    "    pattern_matcher = 50 # arbitrarily large number\n",
    "    for charac in b.lower():\n",
    "        if charac not in charac_list:\n",
    "            temp = S\n",
    "            continue\n",
    "        temp = left_shift(temp)\n",
    "        temp = truth_table(temp, T.get(charac))\n",
    "        if 0 in temp:\n",
    "            if pattern_matcher > temp.index(0):\n",
    "                pattern_matcher = temp.index(0)\n",
    "    return pattern_matcher"
   ]
  },
  {
   "cell_type": "code",
   "execution_count": 12,
   "id": "665f90ae-cdb0-4608-8faa-eec98b349685",
   "metadata": {},
   "outputs": [],
   "source": [
    "def use_bitap(a:str, ref):\n",
    "    pattern_matcher = 50\n",
    "    guessed_word = ''\n",
    "    for target in ref:\n",
    "        x = bitap(a, target)\n",
    "        if x < pattern_matcher:\n",
    "            pattern_matcher = x\n",
    "            guessed_word = target\n",
    "    # having obtained the word with the best bitap output, this will give us the most probable occupation\n",
    "    return guessed_word"
   ]
  },
  {
   "cell_type": "markdown",
   "id": "5431b6ca-1ce1-4622-9896-daf522eb3b7d",
   "metadata": {},
   "source": [
    "N gram similarity involves breaking the initial and target word into strings of varying sizes (n). It may be a bigram (2), or a trigram (3).\n",
    "In this algorithm, I plan to break the words into monograms, bigrams and trigrams, and compare the resulting strings.\n",
    "\n",
    "the n_gram_breaker funtion below will break the string into all possible strings of length 1, 2, 3.\n",
    "after this we will take the ratio of the intersection (A ∩ B) and the union (A ∪ B) symbol to obtain a fraction. Greater common strings will lead to a higher fraction, and that is more likely to be the intended word."
   ]
  },
  {
   "cell_type": "code",
   "execution_count": 13,
   "id": "bc3450b6-5e25-45b8-9d2f-343d7dccfbb2",
   "metadata": {},
   "outputs": [],
   "source": [
    "def n_gram_breaker(a:str):\n",
    "    l = []\n",
    "    for i in range(len(a)):\n",
    "        l.append(a[i])\n",
    "        for j in range(i+1, len(a)):\n",
    "            l.append(a[i] + a[j])\n",
    "            for k in range(j+1, len(a)):\n",
    "                l.append(a[i] + a[j] + a[k])\n",
    "    return l"
   ]
  },
  {
   "cell_type": "code",
   "execution_count": 14,
   "id": "3017fb3c-751c-4717-bdbf-487d47b098b5",
   "metadata": {},
   "outputs": [],
   "source": [
    "def n_gram(a:str, b:str):\n",
    "    a = a.lower()\n",
    "    b = b.lower()\n",
    "    l = n_gram_breaker(a)\n",
    "    l_ = n_gram_breaker(b)\n",
    "    inter = list(set(l) & set(l_))  #applying Jaccord Similarity to the sets of all possible substrings of length 1, 2, 3\n",
    "    union = list(set(l) | set(l_))\n",
    "    return (len(inter) / len(union))"
   ]
  },
  {
   "cell_type": "code",
   "execution_count": 15,
   "id": "e35fe53b-0d47-46b8-9749-d443d4523aa9",
   "metadata": {},
   "outputs": [],
   "source": [
    "def use_n_gram(a:str, ref):\n",
    "    cnt = 0 # initially set to the low value of 0\n",
    "    guessed_word = ''\n",
    "    for target in ref:\n",
    "        x = n_gram(a, target)\n",
    "        if x > cnt:\n",
    "            cnt = x\n",
    "            guessed_word = target\n",
    "    # having obtained the word with the best bitap output, this will give us the most probable occupation\n",
    "    return guessed_word"
   ]
  },
  {
   "cell_type": "markdown",
   "id": "b7d8d950-4499-4b69-98e2-d985661dfbcc",
   "metadata": {},
   "source": [
    "Now, that we have prepared the three algorithms, it is time to run all three algorithms on individuals entries of occupations on the list and tally the results."
   ]
  },
  {
   "cell_type": "code",
   "execution_count": 16,
   "id": "b9565543-e35f-45ab-a4c2-7b65262ae4c1",
   "metadata": {},
   "outputs": [
    {
     "name": "stdout",
     "output_type": "stream",
     "text": [
      "Doctor 225\n",
      "Lawyer 82\n",
      "Teacher 195\n",
      "Engineer 328\n",
      "Accountant 32\n",
      "Nurse 85\n",
      "Police 162\n",
      "Architect 63\n",
      "Dentist 192\n",
      "Pharmacist 42\n",
      "\n",
      "\n",
      "CPU times: total: 125 ms\n",
      "Wall time: 289 ms\n"
     ]
    }
   ],
   "source": [
    "%%time\n",
    "for i in range(1406):\n",
    "    word = data[i][0]\n",
    "    add = use_levenshtein(word, ref)\n",
    "    perm_dic_1[add] += 1\n",
    "for keys in perm_dic_1:\n",
    "    print(keys, perm_dic_1[keys])\n",
    "print('\\n')\n",
    "name_1 = perm_dic_1.keys()\n",
    "values_1 = perm_dic_1.values()"
   ]
  },
  {
   "cell_type": "code",
   "execution_count": 17,
   "id": "44306ea1-8206-432f-abc3-957bb5e4647a",
   "metadata": {},
   "outputs": [
    {
     "name": "stdout",
     "output_type": "stream",
     "text": [
      "Doctor 228\n",
      "Lawyer 82\n",
      "Teacher 195\n",
      "Engineer 333\n",
      "Accountant 35\n",
      "Nurse 80\n",
      "Police 162\n",
      "Architect 63\n",
      "Dentist 186\n",
      "Pharmacist 42\n",
      "\n",
      "\n",
      "CPU times: total: 93.8 ms\n",
      "Wall time: 126 ms\n"
     ]
    }
   ],
   "source": [
    "%%time\n",
    "for i in range(1406):\n",
    "    word = data[i][0]\n",
    "    add = use_bitap(word, ref)\n",
    "    perm_dic_2[add] += 1\n",
    "for keys in perm_dic_2:\n",
    "    print(keys, perm_dic_2[keys])\n",
    "print('\\n')\n",
    "values_2 = perm_dic_2.values()"
   ]
  },
  {
   "cell_type": "code",
   "execution_count": 18,
   "id": "76572668-ff67-447f-b585-8d6c69499619",
   "metadata": {},
   "outputs": [
    {
     "name": "stdout",
     "output_type": "stream",
     "text": [
      "Doctor 219\n",
      "Lawyer 82\n",
      "Teacher 201\n",
      "Engineer 328\n",
      "Accountant 32\n",
      "Nurse 85\n",
      "Police 162\n",
      "Architect 63\n",
      "Dentist 192\n",
      "Pharmacist 42\n",
      "\n",
      "\n",
      "CPU times: total: 328 ms\n",
      "Wall time: 502 ms\n"
     ]
    }
   ],
   "source": [
    "%%time\n",
    "for i in range(1406):\n",
    "    word = data[i][0]\n",
    "    add = use_n_gram(word, ref)\n",
    "    perm_dic_3[add] += 1\n",
    "for keys in perm_dic_3:\n",
    "    print(keys, perm_dic_3[keys])\n",
    "print('\\n')\n",
    "values_3 = perm_dic_3.values()"
   ]
  },
  {
   "cell_type": "markdown",
   "id": "9a9721da-28b4-4b09-a092-acf413527632",
   "metadata": {},
   "source": [
    "Now, let us present the data obtained from the three different algorithms, side by side, in a bar graph to show a comparison between the three."
   ]
  },
  {
   "cell_type": "code",
   "execution_count": 19,
   "id": "d9d79196-0daf-4e73-9ffc-9e621942b060",
   "metadata": {
    "scrolled": true
   },
   "outputs": [
    {
     "data": {
      "image/png": "[encoded data removed]",
      "text/plain": [
       "<Figure size 2500x600 with 1 Axes>"
      ]
     },
     "metadata": {},
     "output_type": "display_data"
    }
   ],
   "source": [
    "positions_1 = [0, 1, 2, 3, 4, 5, 6, 7, 8, 9]\n",
    "positions_2 = [0.3, 1.3, 2.3, 3.3, 4.3, 5.3, 6.3, 7.3, 8.3, 9.3]\n",
    "positions_3 = [0.6, 1.6, 2.6, 3.6, 4.6, 5.6, 6.6, 7.6, 8.6, 9.6]\n",
    "plt.subplots(figsize =(25, 6))\n",
    "plt.bar(positions_1, values_1, color ='blue', \n",
    "        width = 0.3, label ='Levenshtein')\n",
    "plt.bar(positions_2, values_2, color ='red', \n",
    "        width = 0.3, label = 'Bitap')\n",
    "plt.bar(positions_3, values_3, color ='green', \n",
    "        width = 0.3, label = 'N_gram')\n",
    "plt.xticks(positions_2, name_1)\n",
    "plt.xlabel(\"Occupations\", fontweight ='bold', fontsize = 15)\n",
    "plt.ylabel(\"No. of people interested\", fontweight ='bold', fontsize = 15)\n",
    "plt.title(\"Occupation list\", fontweight ='bold', fontsize = 25)\n",
    "plt.legend()\n",
    "plt.show()"
   ]
  },
  {
   "cell_type": "code",
   "execution_count": 20,
   "id": "6b6c5211-99d1-435f-ac15-f623b374283f",
   "metadata": {},
   "outputs": [
    {
     "name": "stdout",
     "output_type": "stream",
     "text": [
      "            Levenshtein  Bitap  N Gram\n",
      "Doctor              225    228     219\n",
      "Lawyer               82     82      82\n",
      "Teacher             195    195     201\n",
      "Engineer            328    333     328\n",
      "Accountant           32     35      32\n",
      "Nurse                85     80      85\n",
      "Police              162    162     162\n",
      "Architect            63     63      63\n",
      "Dentist             192    186     192\n",
      "Pharmacist           42     42      42\n"
     ]
    }
   ],
   "source": [
    "df = pd.DataFrame(list(zip(values_1, values_2, values_3)),\n",
    "                    columns = ['Levenshtein', 'Bitap', 'N Gram'], index = name_1)\n",
    "print(df)"
   ]
  },
  {
   "cell_type": "markdown",
   "id": "5ba178b6-c2db-4cb4-bc26-4710e622f126",
   "metadata": {},
   "source": [
    "- From the above table, we can see that the bitap algorithm has the greatest number of deviations from actual results, will also having the fastest runtime.\n",
    "- On the other hand, N Gram has fewer errors than Bitap, but it has the showest runtime of the three algorithms.\n",
    "- The Levenshtein Algorithm has the highest accuracy of results as well as a decently fast runtime.\n",
    "So, in terms of time efficiency and accuracy of results, the Levenshtein Algorithm has given the best results"
   ]
  }
 ],
 "metadata": {
  "kernelspec": {
   "display_name": "Python 3 (ipykernel)",
   "language": "python",
   "name": "python3"
  },
  "language_info": {
   "codemirror_mode": {
    "name": "ipython",
    "version": 3
   },
   "file_extension": ".py",
   "mimetype": "text/x-python",
   "name": "python",
   "nbconvert_exporter": "python",
   "pygments_lexer": "ipython3",
   "version": "3.12.2"
  }
 },
 "nbformat": 4,
 "nbformat_minor": 5
}
